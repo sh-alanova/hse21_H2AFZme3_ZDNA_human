{
  "nbformat": 4,
  "nbformat_minor": 0,
  "metadata": {
    "colab": {
      "name": "Shirin.ipynb",
      "provenance": [],
      "collapsed_sections": []
    },
    "kernelspec": {
      "name": "python3",
      "display_name": "Python 3"
    },
    "language_info": {
      "name": "python"
    }
  },
  "cells": [
    {
      "cell_type": "code",
      "metadata": {
        "id": "jmaYkcIZFtTA"
      },
      "source": [
        "import numpy as np\n",
        "import tensorflow.compat.v1 as tf\n",
        "import time\n",
        "import math\n",
        "import sys\n",
        "import pandas as pd\n",
        "\n",
        "import matplotlib.pyplot as plt\n",
        "import seaborn as sns\n"
      ],
      "execution_count": 31,
      "outputs": []
    },
    {
      "cell_type": "code",
      "metadata": {
        "colab": {
          "base_uri": "https://localhost:8080/"
        },
        "id": "rsQ4hj3uY-2T",
        "outputId": "17d5ea24-efe7-42b4-e440-fa0f30bb4548"
      },
      "source": [
        "! apt-get install bedtools"
      ],
      "execution_count": null,
      "outputs": [
        {
          "output_type": "stream",
          "name": "stdout",
          "text": [
            "Reading package lists... Done\n",
            "Building dependency tree       \n",
            "Reading state information... Done\n",
            "bedtools is already the newest version (2.26.0+dfsg-5).\n",
            "0 upgraded, 0 newly installed, 0 to remove and 37 not upgraded.\n"
          ]
        }
      ]
    },
    {
      "cell_type": "markdown",
      "metadata": {
        "id": "U_2Xv2pWZDnI"
      },
      "source": [
        "Берём наш файл с участками с пересечением вторичной структуры и гистоновой метки."
      ]
    },
    {
      "cell_type": "code",
      "metadata": {
        "colab": {
          "base_uri": "https://localhost:8080/",
          "height": 423
        },
        "id": "4khwa56LYRb5",
        "outputId": "004fed87-a304-4f9c-ddd4-d4c61d3409ea"
      },
      "source": [
        "H3F3A_ZDNA = 'H3F3A.intersect_with_DeepZ.bed'\n",
        "\n",
        "H3F3A_ZDNA = pd.read_csv(H3F3A_ZDNA, sep='\\t', names=['chr', 'start', 'end'])\n",
        "H3F3A_ZDNA['len'] = H3F3A_ZDNA['end'] - H3F3A_ZDNA['start']\n",
        "H3F3A_ZDNA"
      ],
      "execution_count": 32,
      "outputs": [
        {
          "output_type": "execute_result",
          "data": {
            "text/html": [
              "<div>\n",
              "<style scoped>\n",
              "    .dataframe tbody tr th:only-of-type {\n",
              "        vertical-align: middle;\n",
              "    }\n",
              "\n",
              "    .dataframe tbody tr th {\n",
              "        vertical-align: top;\n",
              "    }\n",
              "\n",
              "    .dataframe thead th {\n",
              "        text-align: right;\n",
              "    }\n",
              "</style>\n",
              "<table border=\"1\" class=\"dataframe\">\n",
              "  <thead>\n",
              "    <tr style=\"text-align: right;\">\n",
              "      <th></th>\n",
              "      <th>chr</th>\n",
              "      <th>start</th>\n",
              "      <th>end</th>\n",
              "      <th>len</th>\n",
              "    </tr>\n",
              "  </thead>\n",
              "  <tbody>\n",
              "    <tr>\n",
              "      <th>0</th>\n",
              "      <td>chr1</td>\n",
              "      <td>934027</td>\n",
              "      <td>934047</td>\n",
              "      <td>20</td>\n",
              "    </tr>\n",
              "    <tr>\n",
              "      <th>1</th>\n",
              "      <td>chr1</td>\n",
              "      <td>1004735</td>\n",
              "      <td>1004904</td>\n",
              "      <td>169</td>\n",
              "    </tr>\n",
              "    <tr>\n",
              "      <th>2</th>\n",
              "      <td>chr1</td>\n",
              "      <td>1141965</td>\n",
              "      <td>1141990</td>\n",
              "      <td>25</td>\n",
              "    </tr>\n",
              "    <tr>\n",
              "      <th>3</th>\n",
              "      <td>chr1</td>\n",
              "      <td>1243681</td>\n",
              "      <td>1243782</td>\n",
              "      <td>101</td>\n",
              "    </tr>\n",
              "    <tr>\n",
              "      <th>4</th>\n",
              "      <td>chr1</td>\n",
              "      <td>1310438</td>\n",
              "      <td>1310457</td>\n",
              "      <td>19</td>\n",
              "    </tr>\n",
              "    <tr>\n",
              "      <th>...</th>\n",
              "      <td>...</td>\n",
              "      <td>...</td>\n",
              "      <td>...</td>\n",
              "      <td>...</td>\n",
              "    </tr>\n",
              "    <tr>\n",
              "      <th>10755</th>\n",
              "      <td>chrX</td>\n",
              "      <td>153990863</td>\n",
              "      <td>153990933</td>\n",
              "      <td>70</td>\n",
              "    </tr>\n",
              "    <tr>\n",
              "      <th>10756</th>\n",
              "      <td>chrX</td>\n",
              "      <td>153990948</td>\n",
              "      <td>153990999</td>\n",
              "      <td>51</td>\n",
              "    </tr>\n",
              "    <tr>\n",
              "      <th>10757</th>\n",
              "      <td>chrX</td>\n",
              "      <td>154299314</td>\n",
              "      <td>154299354</td>\n",
              "      <td>40</td>\n",
              "    </tr>\n",
              "    <tr>\n",
              "      <th>10758</th>\n",
              "      <td>chrX</td>\n",
              "      <td>154299796</td>\n",
              "      <td>154299918</td>\n",
              "      <td>122</td>\n",
              "    </tr>\n",
              "    <tr>\n",
              "      <th>10759</th>\n",
              "      <td>chrY</td>\n",
              "      <td>13842570</td>\n",
              "      <td>13842845</td>\n",
              "      <td>275</td>\n",
              "    </tr>\n",
              "  </tbody>\n",
              "</table>\n",
              "<p>10760 rows × 4 columns</p>\n",
              "</div>"
            ],
            "text/plain": [
              "        chr      start        end  len\n",
              "0      chr1     934027     934047   20\n",
              "1      chr1    1004735    1004904  169\n",
              "2      chr1    1141965    1141990   25\n",
              "3      chr1    1243681    1243782  101\n",
              "4      chr1    1310438    1310457   19\n",
              "...     ...        ...        ...  ...\n",
              "10755  chrX  153990863  153990933   70\n",
              "10756  chrX  153990948  153990999   51\n",
              "10757  chrX  154299314  154299354   40\n",
              "10758  chrX  154299796  154299918  122\n",
              "10759  chrY   13842570   13842845  275\n",
              "\n",
              "[10760 rows x 4 columns]"
            ]
          },
          "metadata": {},
          "execution_count": 32
        }
      ]
    },
    {
      "cell_type": "code",
      "metadata": {
        "colab": {
          "base_uri": "https://localhost:8080/",
          "height": 355
        },
        "id": "xws32M-8-_ki",
        "outputId": "e467889d-8194-4070-be8f-b568cc0806fe"
      },
      "source": [
        "%config InlineBackend.figure_format = 'retina'\n",
        "plt.rcParams['figure.figsize'] = 8, 5\n",
        "plt.rcParams['font.size'] = 12\n",
        "\n",
        "sns.histplot(H3F3A_ZDNA['len'], color = 'blue')\n",
        "plt.title('H2AFZ intersected with zhunt')\n",
        "plt.xlabel('length')\n",
        "plt.ylabel('count')\n",
        "plt.show()"
      ],
      "execution_count": 33,
      "outputs": [
        {
          "output_type": "display_data",
          "data": {
            "image/png": "[encoded data removed]",
            "text/plain": [
              "<Figure size 576x360 with 1 Axes>"
            ]
          },
          "metadata": {
            "image/png": {
              "width": 514,
              "height": 338
            },
            "needs_background": "light"
          }
        }
      ]
    },
    {
      "cell_type": "markdown",
      "metadata": {
        "id": "90I6Cmf-j_iW"
      },
      "source": [
        "Берём те объекты, которых больше всего."
      ]
    },
    {
      "cell_type": "code",
      "metadata": {
        "colab": {
          "base_uri": "https://localhost:8080/",
          "height": 822
        },
        "id": "dR29Q_xksH1i",
        "outputId": "298c8b77-a926-4370-a3f6-00995ecae169"
      },
      "source": [
        "H3F3A_ZDNA = H3F3A_ZDNA[(H3F3A_ZDNA['len'] == 20)]\n",
        "H3F3A_ZDNA.drop(H3F3A_ZDNA[H3F3A_ZDNA['len'] != 20].index, inplace=True)\n",
        "H3F3A_ZDNA['center'] = (H3F3A_ZDNA['end'] + H3F3A_ZDNA['start']) // 2\n",
        "H3F3A_ZDNA['start'] = H3F3A_ZDNA['center'] - 10\n",
        "H3F3A_ZDNA['end'] = H3F3A_ZDNA['end'] - 10\n",
        "H3F3A_ZDNA"
      ],
      "execution_count": 34,
      "outputs": [
        {
          "output_type": "stream",
          "name": "stderr",
          "text": [
            "/usr/local/lib/python3.7/dist-packages/pandas/core/frame.py:4174: SettingWithCopyWarning: \n",
            "A value is trying to be set on a copy of a slice from a DataFrame\n",
            "\n",
            "See the caveats in the documentation: https://pandas.pydata.org/pandas-docs/stable/user_guide/indexing.html#returning-a-view-versus-a-copy\n",
            "  errors=errors,\n",
            "/usr/local/lib/python3.7/dist-packages/ipykernel_launcher.py:3: SettingWithCopyWarning: \n",
            "A value is trying to be set on a copy of a slice from a DataFrame.\n",
            "Try using .loc[row_indexer,col_indexer] = value instead\n",
            "\n",
            "See the caveats in the documentation: https://pandas.pydata.org/pandas-docs/stable/user_guide/indexing.html#returning-a-view-versus-a-copy\n",
            "  This is separate from the ipykernel package so we can avoid doing imports until\n",
            "/usr/local/lib/python3.7/dist-packages/ipykernel_launcher.py:4: SettingWithCopyWarning: \n",
            "A value is trying to be set on a copy of a slice from a DataFrame.\n",
            "Try using .loc[row_indexer,col_indexer] = value instead\n",
            "\n",
            "See the caveats in the documentation: https://pandas.pydata.org/pandas-docs/stable/user_guide/indexing.html#returning-a-view-versus-a-copy\n",
            "  after removing the cwd from sys.path.\n",
            "/usr/local/lib/python3.7/dist-packages/ipykernel_launcher.py:5: SettingWithCopyWarning: \n",
            "A value is trying to be set on a copy of a slice from a DataFrame.\n",
            "Try using .loc[row_indexer,col_indexer] = value instead\n",
            "\n",
            "See the caveats in the documentation: https://pandas.pydata.org/pandas-docs/stable/user_guide/indexing.html#returning-a-view-versus-a-copy\n",
            "  \"\"\"\n"
          ]
        },
        {
          "output_type": "execute_result",
          "data": {
            "text/html": [
              "<div>\n",
              "<style scoped>\n",
              "    .dataframe tbody tr th:only-of-type {\n",
              "        vertical-align: middle;\n",
              "    }\n",
              "\n",
              "    .dataframe tbody tr th {\n",
              "        vertical-align: top;\n",
              "    }\n",
              "\n",
              "    .dataframe thead th {\n",
              "        text-align: right;\n",
              "    }\n",
              "</style>\n",
              "<table border=\"1\" class=\"dataframe\">\n",
              "  <thead>\n",
              "    <tr style=\"text-align: right;\">\n",
              "      <th></th>\n",
              "      <th>chr</th>\n",
              "      <th>start</th>\n",
              "      <th>end</th>\n",
              "      <th>len</th>\n",
              "      <th>center</th>\n",
              "    </tr>\n",
              "  </thead>\n",
              "  <tbody>\n",
              "    <tr>\n",
              "      <th>0</th>\n",
              "      <td>chr1</td>\n",
              "      <td>934027</td>\n",
              "      <td>934037</td>\n",
              "      <td>20</td>\n",
              "      <td>934037</td>\n",
              "    </tr>\n",
              "    <tr>\n",
              "      <th>98</th>\n",
              "      <td>chr1</td>\n",
              "      <td>16693790</td>\n",
              "      <td>16693800</td>\n",
              "      <td>20</td>\n",
              "      <td>16693800</td>\n",
              "    </tr>\n",
              "    <tr>\n",
              "      <th>142</th>\n",
              "      <td>chr1</td>\n",
              "      <td>21113393</td>\n",
              "      <td>21113403</td>\n",
              "      <td>20</td>\n",
              "      <td>21113403</td>\n",
              "    </tr>\n",
              "    <tr>\n",
              "      <th>380</th>\n",
              "      <td>chr1</td>\n",
              "      <td>51433791</td>\n",
              "      <td>51433801</td>\n",
              "      <td>20</td>\n",
              "      <td>51433801</td>\n",
              "    </tr>\n",
              "    <tr>\n",
              "      <th>381</th>\n",
              "      <td>chr1</td>\n",
              "      <td>51433864</td>\n",
              "      <td>51433874</td>\n",
              "      <td>20</td>\n",
              "      <td>51433874</td>\n",
              "    </tr>\n",
              "    <tr>\n",
              "      <th>...</th>\n",
              "      <td>...</td>\n",
              "      <td>...</td>\n",
              "      <td>...</td>\n",
              "      <td>...</td>\n",
              "      <td>...</td>\n",
              "    </tr>\n",
              "    <tr>\n",
              "      <th>10220</th>\n",
              "      <td>chr20</td>\n",
              "      <td>47897627</td>\n",
              "      <td>47897637</td>\n",
              "      <td>20</td>\n",
              "      <td>47897637</td>\n",
              "    </tr>\n",
              "    <tr>\n",
              "      <th>10328</th>\n",
              "      <td>chr21</td>\n",
              "      <td>34851719</td>\n",
              "      <td>34851729</td>\n",
              "      <td>20</td>\n",
              "      <td>34851729</td>\n",
              "    </tr>\n",
              "    <tr>\n",
              "      <th>10678</th>\n",
              "      <td>chrX</td>\n",
              "      <td>47517958</td>\n",
              "      <td>47517968</td>\n",
              "      <td>20</td>\n",
              "      <td>47517968</td>\n",
              "    </tr>\n",
              "    <tr>\n",
              "      <th>10685</th>\n",
              "      <td>chrX</td>\n",
              "      <td>53123800</td>\n",
              "      <td>53123810</td>\n",
              "      <td>20</td>\n",
              "      <td>53123810</td>\n",
              "    </tr>\n",
              "    <tr>\n",
              "      <th>10695</th>\n",
              "      <td>chrX</td>\n",
              "      <td>67718744</td>\n",
              "      <td>67718754</td>\n",
              "      <td>20</td>\n",
              "      <td>67718754</td>\n",
              "    </tr>\n",
              "  </tbody>\n",
              "</table>\n",
              "<p>132 rows × 5 columns</p>\n",
              "</div>"
            ],
            "text/plain": [
              "         chr     start       end  len    center\n",
              "0       chr1    934027    934037   20    934037\n",
              "98      chr1  16693790  16693800   20  16693800\n",
              "142     chr1  21113393  21113403   20  21113403\n",
              "380     chr1  51433791  51433801   20  51433801\n",
              "381     chr1  51433864  51433874   20  51433874\n",
              "...      ...       ...       ...  ...       ...\n",
              "10220  chr20  47897627  47897637   20  47897637\n",
              "10328  chr21  34851719  34851729   20  34851729\n",
              "10678   chrX  47517958  47517968   20  47517968\n",
              "10685   chrX  53123800  53123810   20  53123810\n",
              "10695   chrX  67718744  67718754   20  67718754\n",
              "\n",
              "[132 rows x 5 columns]"
            ]
          },
          "metadata": {},
          "execution_count": 34
        }
      ]
    },
    {
      "cell_type": "code",
      "metadata": {
        "colab": {
          "base_uri": "https://localhost:8080/"
        },
        "id": "W86QGRquMfRG",
        "outputId": "60938ffd-582e-4f5c-a1b7-f782b4e803f2"
      },
      "source": [
        "!wget http://hgdownload.cse.ucsc.edu/admin/exe/linux.x86_64/twoBitToFa\n",
        "!chmod a+x twoBitToFa"
      ],
      "execution_count": 35,
      "outputs": [
        {
          "output_type": "stream",
          "name": "stdout",
          "text": [
            "--2021-12-01 18:11:44--  http://hgdownload.cse.ucsc.edu/admin/exe/linux.x86_64/twoBitToFa\n",
            "Resolving hgdownload.cse.ucsc.edu (hgdownload.cse.ucsc.edu)... 128.114.119.163\n",
            "Connecting to hgdownload.cse.ucsc.edu (hgdownload.cse.ucsc.edu)|128.114.119.163|:80... connected.\n",
            "HTTP request sent, awaiting response... 200 OK\n",
            "Length: 9367560 (8.9M)\n",
            "Saving to: ‘twoBitToFa’\n",
            "\n",
            "twoBitToFa          100%[===================>]   8.93M  30.1MB/s    in 0.3s    \n",
            "\n",
            "2021-12-01 18:11:45 (30.1 MB/s) - ‘twoBitToFa’ saved [9367560/9367560]\n",
            "\n"
          ]
        }
      ]
    },
    {
      "cell_type": "code",
      "metadata": {
        "id": "hnCrGoCsJmT5"
      },
      "source": [
        "for i in range(H3F3A_ZDNA.shape[0]):\n",
        "    name = H3F3A_ZDNA.iloc[i, :]['chr']\n",
        "    start = H3F3A_ZDNA.iloc[i, :]['start']\n",
        "    end = H3F3A_ZDNA.iloc[i, :]['end']\n",
        "\n",
        "    file_name = str(i) + 's.fa'\n",
        "    \n",
        "    !./twoBitToFa http://hgdownload.cse.ucsc.edu/gbdb/hg19/hg19.2bit $file_name -seq=$name -start=$start -end=$end"
      ],
      "execution_count": 36,
      "outputs": []
    },
    {
      "cell_type": "code",
      "metadata": {
        "id": "svRZWVSwJ-N6"
      },
      "source": [
        "!cat *s.fa > pos.fa"
      ],
      "execution_count": 37,
      "outputs": []
    },
    {
      "cell_type": "code",
      "metadata": {
        "colab": {
          "base_uri": "https://localhost:8080/",
          "height": 443
        },
        "id": "yIqCZJ8ZMyTN",
        "outputId": "1f969ce7-aca8-4525-d60b-8503b6e32edc"
      },
      "source": [
        "genome = pd.read_csv('Genome.bed', sep='\\t', header=None)\n",
        "genome"
      ],
      "execution_count": 38,
      "outputs": [
        {
          "output_type": "execute_result",
          "data": {
            "text/html": [
              "<div>\n",
              "<style scoped>\n",
              "    .dataframe tbody tr th:only-of-type {\n",
              "        vertical-align: middle;\n",
              "    }\n",
              "\n",
              "    .dataframe tbody tr th {\n",
              "        vertical-align: top;\n",
              "    }\n",
              "\n",
              "    .dataframe thead th {\n",
              "        text-align: right;\n",
              "    }\n",
              "</style>\n",
              "<table border=\"1\" class=\"dataframe\">\n",
              "  <thead>\n",
              "    <tr style=\"text-align: right;\">\n",
              "      <th></th>\n",
              "      <th>0</th>\n",
              "      <th>1</th>\n",
              "      <th>2</th>\n",
              "      <th>3</th>\n",
              "      <th>4</th>\n",
              "      <th>5</th>\n",
              "      <th>6</th>\n",
              "      <th>7</th>\n",
              "      <th>8</th>\n",
              "      <th>9</th>\n",
              "      <th>10</th>\n",
              "      <th>11</th>\n",
              "    </tr>\n",
              "  </thead>\n",
              "  <tbody>\n",
              "    <tr>\n",
              "      <th>0</th>\n",
              "      <td>chr1</td>\n",
              "      <td>66999043</td>\n",
              "      <td>67216822</td>\n",
              "      <td>NM_001376549.1</td>\n",
              "      <td>0</td>\n",
              "      <td>+</td>\n",
              "      <td>67000041</td>\n",
              "      <td>67208778</td>\n",
              "      <td>0</td>\n",
              "      <td>23</td>\n",
              "      <td>47,123,64,25,72,57,55,176,25,52,86,93,75,128,1...</td>\n",
              "      <td>0,885,92486,99709,102583,106416,109449,110183,...</td>\n",
              "    </tr>\n",
              "    <tr>\n",
              "      <th>1</th>\n",
              "      <td>chr1</td>\n",
              "      <td>66999043</td>\n",
              "      <td>67216822</td>\n",
              "      <td>NM_001376535.1</td>\n",
              "      <td>0</td>\n",
              "      <td>+</td>\n",
              "      <td>67000041</td>\n",
              "      <td>67208778</td>\n",
              "      <td>0</td>\n",
              "      <td>26</td>\n",
              "      <td>47,123,64,25,72,57,55,176,12,12,25,52,86,93,75...</td>\n",
              "      <td>0,885,92486,99709,102583,106416,109449,110183,...</td>\n",
              "    </tr>\n",
              "    <tr>\n",
              "      <th>2</th>\n",
              "      <td>chr1</td>\n",
              "      <td>66999275</td>\n",
              "      <td>67216822</td>\n",
              "      <td>NM_001376554.1</td>\n",
              "      <td>0</td>\n",
              "      <td>+</td>\n",
              "      <td>67000041</td>\n",
              "      <td>67208778</td>\n",
              "      <td>0</td>\n",
              "      <td>21</td>\n",
              "      <td>80,123,64,25,57,55,176,25,52,86,93,75,128,127,...</td>\n",
              "      <td>0,653,92254,99477,106184,109217,109951,137402,...</td>\n",
              "    </tr>\n",
              "    <tr>\n",
              "      <th>3</th>\n",
              "      <td>chr1</td>\n",
              "      <td>66999275</td>\n",
              "      <td>67216822</td>\n",
              "      <td>NM_001376551.1</td>\n",
              "      <td>0</td>\n",
              "      <td>+</td>\n",
              "      <td>67000041</td>\n",
              "      <td>67208778</td>\n",
              "      <td>0</td>\n",
              "      <td>22</td>\n",
              "      <td>80,123,64,25,57,55,176,25,52,86,93,75,128,127,...</td>\n",
              "      <td>0,653,92254,99477,106184,109217,109951,137402,...</td>\n",
              "    </tr>\n",
              "    <tr>\n",
              "      <th>4</th>\n",
              "      <td>chr1</td>\n",
              "      <td>66999275</td>\n",
              "      <td>67216822</td>\n",
              "      <td>NM_001308203.2</td>\n",
              "      <td>0</td>\n",
              "      <td>+</td>\n",
              "      <td>67000041</td>\n",
              "      <td>67208778</td>\n",
              "      <td>0</td>\n",
              "      <td>22</td>\n",
              "      <td>80,123,64,25,57,55,176,25,52,86,93,75,128,127,...</td>\n",
              "      <td>0,653,92254,99477,106184,109217,109951,137402,...</td>\n",
              "    </tr>\n",
              "    <tr>\n",
              "      <th>...</th>\n",
              "      <td>...</td>\n",
              "      <td>...</td>\n",
              "      <td>...</td>\n",
              "      <td>...</td>\n",
              "      <td>...</td>\n",
              "      <td>...</td>\n",
              "      <td>...</td>\n",
              "      <td>...</td>\n",
              "      <td>...</td>\n",
              "      <td>...</td>\n",
              "      <td>...</td>\n",
              "      <td>...</td>\n",
              "    </tr>\n",
              "    <tr>\n",
              "      <th>87140</th>\n",
              "      <td>chr7_gl000195_random</td>\n",
              "      <td>42937</td>\n",
              "      <td>86735</td>\n",
              "      <td>NM_001242480.3</td>\n",
              "      <td>0</td>\n",
              "      <td>-</td>\n",
              "      <td>44723</td>\n",
              "      <td>49117</td>\n",
              "      <td>0</td>\n",
              "      <td>4</td>\n",
              "      <td>1986,165,60,218,</td>\n",
              "      <td>0,6017,31183,43580,</td>\n",
              "    </tr>\n",
              "    <tr>\n",
              "      <th>87141</th>\n",
              "      <td>chr7_gl000195_random</td>\n",
              "      <td>42937</td>\n",
              "      <td>86735</td>\n",
              "      <td>NM_001347680.2</td>\n",
              "      <td>0</td>\n",
              "      <td>-</td>\n",
              "      <td>46775</td>\n",
              "      <td>49117</td>\n",
              "      <td>0</td>\n",
              "      <td>3</td>\n",
              "      <td>3864,165,218,</td>\n",
              "      <td>0,6017,43580,</td>\n",
              "    </tr>\n",
              "    <tr>\n",
              "      <th>87142</th>\n",
              "      <td>chr7_gl000195_random</td>\n",
              "      <td>42937</td>\n",
              "      <td>86735</td>\n",
              "      <td>NM_001347681.2</td>\n",
              "      <td>0</td>\n",
              "      <td>-</td>\n",
              "      <td>44723</td>\n",
              "      <td>49117</td>\n",
              "      <td>0</td>\n",
              "      <td>3</td>\n",
              "      <td>1986,165,218,</td>\n",
              "      <td>0,6017,43580,</td>\n",
              "    </tr>\n",
              "    <tr>\n",
              "      <th>87143</th>\n",
              "      <td>chr7_gl000195_random</td>\n",
              "      <td>42937</td>\n",
              "      <td>86735</td>\n",
              "      <td>NR_144628.2</td>\n",
              "      <td>0</td>\n",
              "      <td>-</td>\n",
              "      <td>86735</td>\n",
              "      <td>86735</td>\n",
              "      <td>0</td>\n",
              "      <td>2</td>\n",
              "      <td>1986,218,</td>\n",
              "      <td>0,43580,</td>\n",
              "    </tr>\n",
              "    <tr>\n",
              "      <th>87144</th>\n",
              "      <td>chr17_gl000205_random</td>\n",
              "      <td>116622</td>\n",
              "      <td>119732</td>\n",
              "      <td>NR_003682.1</td>\n",
              "      <td>0</td>\n",
              "      <td>+</td>\n",
              "      <td>119732</td>\n",
              "      <td>119732</td>\n",
              "      <td>0</td>\n",
              "      <td>1</td>\n",
              "      <td>3110,</td>\n",
              "      <td>0,</td>\n",
              "    </tr>\n",
              "  </tbody>\n",
              "</table>\n",
              "<p>87145 rows × 12 columns</p>\n",
              "</div>"
            ],
            "text/plain": [
              "                          0   ...                                                 11\n",
              "0                       chr1  ...  0,885,92486,99709,102583,106416,109449,110183,...\n",
              "1                       chr1  ...  0,885,92486,99709,102583,106416,109449,110183,...\n",
              "2                       chr1  ...  0,653,92254,99477,106184,109217,109951,137402,...\n",
              "3                       chr1  ...  0,653,92254,99477,106184,109217,109951,137402,...\n",
              "4                       chr1  ...  0,653,92254,99477,106184,109217,109951,137402,...\n",
              "...                      ...  ...                                                ...\n",
              "87140   chr7_gl000195_random  ...                                0,6017,31183,43580,\n",
              "87141   chr7_gl000195_random  ...                                      0,6017,43580,\n",
              "87142   chr7_gl000195_random  ...                                      0,6017,43580,\n",
              "87143   chr7_gl000195_random  ...                                           0,43580,\n",
              "87144  chr17_gl000205_random  ...                                                 0,\n",
              "\n",
              "[87145 rows x 12 columns]"
            ]
          },
          "metadata": {},
          "execution_count": 38
        }
      ]
    },
    {
      "cell_type": "code",
      "metadata": {
        "id": "731mGXKzbJMM"
      },
      "source": [
        ""
      ],
      "execution_count": null,
      "outputs": []
    },
    {
      "cell_type": "markdown",
      "metadata": {
        "id": "lrQxBb7GkHIZ"
      },
      "source": [
        "Найдём теперь наши классы."
      ]
    },
    {
      "cell_type": "code",
      "metadata": {
        "id": "oq8Ry6ynn6Em"
      },
      "source": [
        "!bedtools subtract -a Genome.bed -b DeepZ.bed > tmp.bed\n",
        "!bedtools subtract -a tmp.bed -b H3F3A.merge.hg19.bed > neg.bed"
      ],
      "execution_count": 40,
      "outputs": []
    },
    {
      "cell_type": "code",
      "metadata": {
        "id": "egnK1Fubl-D2"
      },
      "source": [
        "neg = pd.read_csv('neg.bed', sep='\\t', names=['chr', 'start', 'end', '3', '4', '5', '6', '7', '8', '9', '10', '11'])\n",
        "neg['len'] = neg['end'] - neg['start']\n",
        "neg.drop(neg[neg['len'] != 20].index, inplace=True)\n",
        "neg.drop(['len'], axis=1, inplace=True)\n",
        "neg.to_csv('neg_.bed', index=None, sep=\"\\t\", header=None)"
      ],
      "execution_count": 43,
      "outputs": []
    },
    {
      "cell_type": "code",
      "metadata": {
        "id": "7TpEbOs5HZ-W"
      },
      "source": [
        "!./twoBitToFa  http://hgdownload.cse.ucsc.edu/gbdb/hg19/hg19.2bit -bed=neg_.bed neg.fa"
      ],
      "execution_count": 44,
      "outputs": []
    },
    {
      "cell_type": "markdown",
      "metadata": {
        "id": "Jc1YQ98hNJL1"
      },
      "source": [
        "**Мы получили данные. Теперь обучим нейронку.**"
      ]
    },
    {
      "cell_type": "code",
      "metadata": {
        "id": "vN5S4cyMlMaK"
      },
      "source": [
        "__author__ = 'jasperz'\n",
        "import os\n",
        "import numpy as np\n",
        "import tensorflow.compat.v1 as tf\n",
        "import time\n",
        "import math\n",
        "import sys"
      ],
      "execution_count": 45,
      "outputs": []
    },
    {
      "cell_type": "code",
      "metadata": {
        "id": "5iZM4fKGeRYu"
      },
      "source": [
        "# An object of this class represents a neural network, which you can build, print, train, evaluate, save and load.\n",
        "# Below, the functions are discussed in detail.\n",
        "os.environ['TF_CPP_MIN_LOG_LEVEL'] = '3'\n",
        "os.environ['CUDA_VISIBLE_DEVICES'] = '0'\n",
        "class NetworkModel:\n",
        "    tf.disable_v2_behavior()\n",
        "\n",
        "    # The constructor function\n",
        "    def __init__(self, file_to_load = None):\n",
        "        tf.reset_default_graph()\n",
        "        self.all_layers = []\n",
        "\n",
        "        gpu_options = tf.GPUOptions(per_process_gpu_memory_fraction=0.1)\n",
        "        config = tf.ConfigProto(gpu_options=gpu_options)\n",
        "        config.gpu_options.allow_growth = True\n",
        "\n",
        "        self.sess = tf.Session(config=config)\n",
        "\n",
        "        if not file_to_load:\n",
        "            self.X_placeholder = tf.placeholder(tf.float32, [None, 200, 4],name='X_placeholder')\n",
        "            self.Y_placeholder = tf.placeholder(tf.float32, [None, 2],name='Y_placeholder')\n",
        "            self.loaded = False\n",
        "            self.nn = None\n",
        "        else:\n",
        "            self.loaded = True\n",
        "            self._loadNetworkParameters('models/'+file_to_load)\n",
        "            self.X_placeholder = tf.get_default_graph().get_tensor_by_name('X_placeholder:0')\n",
        "            self.Y_placeholder = tf.get_default_graph().get_tensor_by_name('Y_placeholder:0')\n",
        "            self.predictions_softmax = tf.get_default_graph().get_tensor_by_name('softmax_prediction:0')\n",
        "\n",
        "    # Adding the input layer\n",
        "    def addInputLayer(self):\n",
        "        assert len(self.all_layers) == 0, 'The input layer should be the first layer of the network, and can only be added once.'\n",
        "        self.all_layers.append(('Input layer','',self.X_placeholder))\n",
        "\n",
        "    # Adding a convolution layer\n",
        "    def addConvLayer(self, num_of_filters, filter_width, zero_padding = True):\n",
        "        assert len(self.all_layers) > 0 and self.all_layers[0][0].startswith('Input layer')\n",
        "        assert zero_padding in (True,False), 'zero_padding should be True or False (boolean)'\n",
        "        assert 0 < num_of_filters < 500, 'The number of filters specified should be a positive number, smaller than 500'\n",
        "        assert 0 < filter_width < 64, 'The width of your filters should be a positive number, smaller than 64'\n",
        "        assert len(self.all_layers)+1 < 21, 'The total amount of layers should be at most 20'\n",
        "        assert 'Fully-connected layer' not in [typ for typ,_,_ in self.all_layers], 'You cannot add a convolutional layer after a fully-connected layer'\n",
        "        assert 'Softmax (output) layer' not in [typ for typ,_,_ in self.all_layers], 'You cannot add a convolutional layer after a softmax layer'\n",
        "        prev_width = self.all_layers[-1][-1].shape[1]\n",
        "        assert zero_padding or prev_width >= filter_width, 'You cannot add a (non-zeropadded) convolution of width {} when the previous layer has an output width of {}'.format(filter_width,prev_width)\n",
        "        self.all_layers.append(('Convolutional layer',\n",
        "                                '{} filters, width {}, {}zero padding, with ReLU'.format(num_of_filters,\n",
        "                                                                                         filter_width,\n",
        "                                                                                         'no ' if not zero_padding else ''),\n",
        "                                tf.layers.conv1d(self.all_layers[-1][-1],\n",
        "                                                 filters=num_of_filters,\n",
        "                                                 kernel_size=filter_width,\n",
        "                                                 activation=tf.nn.relu,\n",
        "                                                 padding='same' if zero_padding else 'valid')))\n",
        "\n",
        "    # Adding a max pooling layer\n",
        "    def addMaxPoolLayer(self, pool_size):\n",
        "        assert len(self.all_layers) > 0 and self.all_layers[0][0].startswith('Input layer')\n",
        "        assert 'Fully-connected layer' not in [typ for typ,_,_ in self.all_layers], 'You cannot add a pooling layer after a fully-connected layer'\n",
        "        assert 'Softmax (output) layer' not in [typ for typ,_,_ in self.all_layers], 'You cannot add a pooling layer after a softmax layer'\n",
        "        assert len(self.all_layers)+1 < 21, 'The total amount of layers should be at most 20'\n",
        "        assert 0 < pool_size < 50, 'The pool size should be lower than 50'\n",
        "        prev_width = self.all_layers[-1][-1].shape[1]\n",
        "        assert prev_width >= pool_size, 'You cannot add a pooling layer with pool size {} when the previous layer has an output width of {}'.format(pool_size,prev_width)\n",
        "        self.all_layers.append(('Max pooling layer',\n",
        "                                'pool size {}'.format(pool_size),\n",
        "                                tf.layers.max_pooling1d(self.all_layers[-1][-1],\n",
        "                                                        pool_size=pool_size,\n",
        "                                                        strides=pool_size)))\n",
        "\n",
        "    # Adding a fully-connected layer\n",
        "    def addFullyConnectedLayer(self,num_of_neurons):\n",
        "        assert len(self.all_layers) > 0 and self.all_layers[0][0].startswith('Input layer')\n",
        "        assert 'Softmax (output) layer' not in [typ for typ,_,_ in self.all_layers], 'You cannot add a fully-connected layer after a softmax layer'\n",
        "        assert len(self.all_layers)+1 < 21, 'The total amount of layers should be at most 20'\n",
        "        assert 0 < num_of_neurons < 1000, 'The amount of neurons in this layer should be a positive number, lower than 2000'\n",
        "        if len(self.all_layers[-1][-1].shape) > 2:\n",
        "            self.all_layers.append(('Flatten layer',\n",
        "                                    '',\n",
        "                                   tf.layers.flatten(self.all_layers[-1][-1])))\n",
        "        self.all_layers.append(('Fully-connected layer',\n",
        "                                '{} neurons, with ReLU'.format(num_of_neurons),\n",
        "                                tf.layers.dense(self.all_layers[-1][-1],num_of_neurons)))\n",
        "\n",
        "    # Adding an output layer\n",
        "    def addOutputLayer(self):\n",
        "        assert len(self.all_layers) > 0 and self.all_layers[0][0].startswith('Input layer')\n",
        "        assert 'Softmax (output) layer' not in [typ for typ,_,_ in self.all_layers], 'You cannot add a softmax (output) layer after a softmax layer'\n",
        "        assert len(self.all_layers)+1 < 21, 'The total amount of layers should be at most 20'\n",
        "        if len(self.all_layers[-1][-1].shape) > 2:\n",
        "            self.all_layers.append(('Flatten layer',\n",
        "                                    '',\n",
        "                                    tf.contrib.layers.flatten(self.all_layers[-1][-1])))\n",
        "        # assert no output layer yet\n",
        "        # assert # of layers\n",
        "        self.all_layers.append(('Softmax (output) layer',\n",
        "                                '2 neurons',\n",
        "                                tf.layers.dense(self.all_layers[-1][-1], 2,name='logits')))\n",
        "\n",
        "    # Printing out an overview of the layers\n",
        "    def printDetails(self):\n",
        "        print('####################################')\n",
        "        print('Network information:')\n",
        "        # count all parameters:\n",
        "        total_parameters = 0\n",
        "        # iterating over all variables\n",
        "        for variable in tf.trainable_variables():\n",
        "            local_parameters = 1\n",
        "            shape = variable.get_shape()  # getting shape of a variable\n",
        "            for i in shape:\n",
        "                local_parameters *= i.value  # mutiplying dimension values\n",
        "            total_parameters += local_parameters\n",
        "        print('This network has {} trainable parameters.'.format(total_parameters))\n",
        "\n",
        "        for i,(name,info,l) in enumerate(self.all_layers):\n",
        "            try:\n",
        "                print('{: >2d}. {:23} {:50} -> Output size: {}'.format(i, name, info, l.shape))\n",
        "            except AttributeError:\n",
        "                pass\n",
        "        print('')\n",
        "        print('####################################')\n",
        "\n",
        "    # Function to train the network\n",
        "    def train(self, trainX, trainY, validX, validY, n_epochs):\n",
        "        print('####################################')\n",
        "        assert 'Input layer' in [typ for typ,_,_ in self.all_layers], 'You cannot train a model without an input layer'\n",
        "        assert 'Softmax (output) layer' in [typ for typ,_,_ in self.all_layers], 'You cannot train a model without an output layer'\n",
        "        assert self.loaded == False, 'You can not (re)train a model loaded from a file.'\n",
        "        assert 1 < n_epochs < 100, 'The number of epochs should be greater than 1 and lower than 100'\n",
        "        assert all(type(l) == list for l in (trainX, trainY, validX, validY)), 'trainX, trainY, validX and validY should all be lists'\n",
        "        assert all(len(l) > 0 for l in (trainX, trainY, validX, validY)), 'trainX, trainY, validX and validY should not be empty'\n",
        "\n",
        "        assert len(trainX) == len(trainY), 'trainX and trainY should have the same amount of samples'\n",
        "        assert len(trainX[0]) == 50 and len(trainX[0][0]) == 4 and type(trainX[0][0][0]) == int, 'trainX should have size (_, 200, 4) and should contain integers'\n",
        "        assert type(trainY[0]) == int, 'trainY should have length n (for n sequences) and should contain integers'\n",
        "\n",
        "        assert len(validX) == len(validY), 'validX and validY should have the same amount of samples'\n",
        "        assert len(validX[0]) == 50 and len(validX[0][0]) == 4 and type(validX[0][0][0]) == int, 'validX should have size (_, 200, 4) and should contain integers'\n",
        "        assert type(validY[0]) == int, 'validY should have length n (for n sequences) and should contain integers'\n",
        "        # assert input and output layer\n",
        "        self._prepare_training()\n",
        "\n",
        "        self.sess.run(tf.global_variables_initializer())\n",
        "        self.sess.run(tf.local_variables_initializer())\n",
        "        train_dataset = _Dataset(trainX, trainY)\n",
        "        valid_dataset = _Dataset(validX, validY)\n",
        "        self._printOutputClasses(train_dataset,'training')\n",
        "        self._printOutputClasses(valid_dataset,'validation')\n",
        "\n",
        "        best_valid_score = 999999\n",
        "        print()\n",
        "        print(' {:^5} | {:^14} | {:^14} | {:^11} | {:^11} | {:^8} '.format('epoch','train cost','valid cost','train acc','valid acc','time'))\n",
        "        print('-{:-^6}+{:-^16}+{:-^16}+{:-^13}+{:-^13}+{:-^9}-'.format('','','','','',''))\n",
        "\n",
        "        tr_cost, tr_acc = self._evaluateSet(train_dataset)\n",
        "        va_cost, va_acc = self._evaluateSet(valid_dataset)\n",
        "        print(' {:5d} |   {:2.8f}   |   {:2.8f}   |  {:1.7f}  | {:1.7f}  | {:4.2f}s '.format(0,tr_cost,tr_acc,va_cost,va_acc,0))\n",
        "\n",
        "        for epoch in range(1,n_epochs+1):\n",
        "            epoch_start_time = time.time()\n",
        "            epoch_finished = False\n",
        "            while not epoch_finished:\n",
        "                batch_x, batch_y, epoch_finished = train_dataset.next_batch(256)\n",
        "                self.sess.run(self.train_op, feed_dict={self.X_placeholder: batch_x, self.Y_placeholder: batch_y})\n",
        "            tr_cost, tr_acc = self._evaluateSet(train_dataset)\n",
        "            va_cost, va_acc = self._evaluateSet(valid_dataset)\n",
        "\n",
        "            if va_cost < best_valid_score:\n",
        "                best_valid_score = va_cost\n",
        "                message = '-> model selected'\n",
        "                self._storeNetworkParameters('models/tmp')\n",
        "            else:\n",
        "                message = ''\n",
        "            print(' {:5d} |   {:2.8f}   |   {:2.8f}   |  {:1.7f}  | {:1.7f}  | {:4.2f}s {}'.format(epoch,tr_cost,va_cost,tr_acc,va_acc,time.time()-epoch_start_time,message))\n",
        "\n",
        "        self._loadNetworkParameters('models/tmp')\n",
        "        print('Finished training')\n",
        "        print('####################################')\n",
        "\n",
        "    # Function to generate predictions for a certain dataset.\n",
        "    def generatePredictions(self, testX):\n",
        "        assert len(testX[0]) == 200 and len(testX[0][0]) == 4 and type(testX[0][0][0]) == int, 'testX should have size (_, 200, 4) and should contain integers'\n",
        "        assert self.loaded or 'Input layer' in [typ for typ,_,_ in self.all_layers], 'You cannot test a model without an input layer'\n",
        "        assert self.loaded or 'Softmax (output) layer' in [typ for typ,_,_ in self.all_layers], 'You cannot test a model without an output layer'\n",
        "        # assert input and output layer\n",
        "        all_preds = []\n",
        "        for i in range(math.ceil(len(testX)/256)):\n",
        "            batch_x = np.asarray(testX[i*256:(i+1)*256])\n",
        "            preds = self.sess.run(self.predictions_softmax,feed_dict={self.X_placeholder:batch_x})\n",
        "            for i in range(len(preds)):\n",
        "                all_preds.append((preds[i][0],preds[i][1]))\n",
        "        return all_preds\n",
        "\n",
        "    # Function to save the model\n",
        "    def saveModel(self, file_to_save_to):\n",
        "        assert 'Input layer' in [typ for typ,_,_ in self.all_layers], 'You cannot save a model without an input layer'\n",
        "        assert 'Softmax (output) layer' in [typ for typ,_,_ in self.all_layers], 'You cannot save a model without an output layer'\n",
        "        # assert input and output layer\n",
        "        assert not self.loaded, 'You cannot save a loaded model again.'\n",
        "        self._storeNetworkParameters('models/'+file_to_save_to)\n",
        "\n",
        "    def _prepare_training(self):\n",
        "        # assert all layers -1 == output layer\n",
        "        gs = tf.train.get_or_create_global_step()\n",
        "        self.predictions_softmax = tf.nn.softmax(self.all_layers[-1][-1],name='softmax_prediction')\n",
        "\n",
        "        self.cost_f = tf.losses.softmax_cross_entropy(onehot_labels=self.Y_placeholder, logits=self.all_layers[-1][-1])\n",
        "        self.optimizer = tf.train.AdamOptimizer(learning_rate=0.001)\n",
        "        self.train_op = self.optimizer.minimize(loss=self.cost_f,global_step=gs)\n",
        "\n",
        "        self.acc_f, self.acc_op = tf.metrics.accuracy(labels=tf.argmax(self.Y_placeholder, axis=1),predictions=tf.argmax(self.predictions_softmax, axis=1),name='metric_acc')\n",
        "        self.metric_var_initializer = tf.variables_initializer(var_list=tf.get_collection(tf.GraphKeys.LOCAL_VARIABLES, scope='metric'))\n",
        "\n",
        "    def _evaluateSet(self, dataset):\n",
        "        self.sess.run(self.metric_var_initializer)\n",
        "        costs = []\n",
        "        batches_done = False\n",
        "        while not batches_done:\n",
        "            batch_x, batch_y, epoch_finished = dataset.next_batch(256)\n",
        "\n",
        "            cost_batch = self.sess.run(self.cost_f, feed_dict={self.X_placeholder: batch_x,self.Y_placeholder: batch_y})\n",
        "            _ = self.sess.run([self.acc_op], feed_dict={self.X_placeholder: batch_x,self.Y_placeholder: batch_y})\n",
        "            costs.extend([cost_batch] * len(batch_y))\n",
        "\n",
        "            if epoch_finished:\n",
        "                batches_done = True\n",
        "\n",
        "        accuracy = self.sess.run([self.acc_f])[0]\n",
        "        return np.average(costs),accuracy\n",
        "\n",
        "    def _printOutputClasses(self, dataset, label):\n",
        "        print()\n",
        "        counts = dataset.getClassCounts()\n",
        "        print('Number of {} examples: {}'.format(label,int(np.sum(counts))))\n",
        "        if len(counts) > 1:\n",
        "            print('Distribution of the {} set:'.format(label))\n",
        "            for i in range(min(10,len(counts))):\n",
        "                print('  # elements of class {} = {}'.format(i,int(counts[i])))\n",
        "\n",
        "    def _storeNetworkParameters(self, saveToDir):\n",
        "        try:\n",
        "            saver = tf.train.Saver()\n",
        "            if not os.path.exists(saveToDir):\n",
        "                os.makedirs(saveToDir)\n",
        "            saver.save(self.sess,saveToDir+'/'+saveToDir[saveToDir.rfind('/')+1:])\n",
        "        except Exception:\n",
        "            print('SOMETHING WENT WRONG WITH STORING SHIT JASPER!! ~~~~~~~~~~~~~~~~~~~~~~~~~~~~~~~~~~~~~~~~~')\n",
        "            print(sys.exc_info())\n",
        "            print('~~~~~~~~~~~~~~~~~~~~~~~~~~~~~~~~~~~~~~~~~~~~~~~~~~~~~~~~~~~~~~~~~~~~~~~~~~~~~~~~~~~~~~~~~')\n",
        "\n",
        "    def _loadNetworkParameters(self, saveToDir):\n",
        "        filename = saveToDir+'/'+saveToDir[saveToDir.rfind('/')+1:]\n",
        "        if self.loaded:\n",
        "            saver = tf.train.import_meta_graph(filename+'.meta')\n",
        "        else:\n",
        "            saver = tf.train.Saver()\n",
        "        saver.restore(self.sess, tf.train.latest_checkpoint(saveToDir))\n",
        "\n",
        "\n",
        "class _Dataset:\n",
        "\n",
        "    def __init__(self,x_data,y_data=None):\n",
        "        if isinstance(x_data,list):\n",
        "            x_data = np.asarray(x_data)\n",
        "\n",
        "        self.index_in_epoch = 0\n",
        "        self.x_data = x_data\n",
        "        self.num_samples = x_data.shape[0]\n",
        "\n",
        "        if y_data:\n",
        "            if isinstance(y_data,list):\n",
        "                y_data = self._convertY(y_data)\n",
        "                self.y_data = y_data\n",
        "        else:\n",
        "            self.y_data = []\n",
        "    def __len__(self):\n",
        "        return len(self.x_data)\n",
        "\n",
        "    def getClassCounts(self):\n",
        "        return np.sum(self.y_data,axis=0)\n",
        "\n",
        "    def _convertY(self, y_data):\n",
        "        out = np.zeros((len(y_data),2))\n",
        "        for i,cl in enumerate(y_data):\n",
        "            out[i][cl] = 1\n",
        "        return out\n",
        "\n",
        "    def next_batch(self,batch_size):\n",
        "        start = self.index_in_epoch\n",
        "        end = self.index_in_epoch + batch_size\n",
        "\n",
        "        if start == 0:\n",
        "            idx = np.arange(0, self.num_samples)  # get all possible indexes\n",
        "            np.random.shuffle(idx)  # shuffle indexes\n",
        "            self.x_data = self.x_data[idx]\n",
        "            if len(self.y_data) > 0:\n",
        "                self.y_data = self.y_data[idx]\n",
        "\n",
        "        if end < self.num_samples:\n",
        "            self.index_in_epoch = end\n",
        "            return self.x_data[start:end], self.y_data[start:end], False # epoch finished = False\n",
        "        else:\n",
        "            self.index_in_epoch = 0\n",
        "            return self.x_data[start:], self.y_data[start:], True #epoch finished = True\n",
        "\n",
        "\n",
        "    def stepsInEpoch(self,batch_size):\n",
        "        return math.ceil(len(self) / batch_size)\n",
        "\n",
        "    def getX(self):\n",
        "        return self.x_data\n",
        "\n",
        "    def getSequenceLength(self):\n",
        "        return len(self.x_data[0])"
      ],
      "execution_count": 79,
      "outputs": []
    },
    {
      "cell_type": "code",
      "metadata": {
        "id": "dwR-D7OHeXhg"
      },
      "source": [
        "def readInputs(f1,f2):\n",
        "    lines_pos = open(f1).readlines()\n",
        "    lines_neg = open(f2).readlines()\n",
        "\n",
        "    X = []\n",
        "    Y = []\n",
        "\n",
        "    for l in convertLines(lines_pos):\n",
        "        X.append(l)\n",
        "        Y.append(1)\n",
        "    for l in convertLines(lines_neg):\n",
        "        X.append(l)\n",
        "        Y.append(0)\n",
        "\n",
        "    return X,Y\n",
        "\n",
        "def convertLines(lines):\n",
        "    v = []\n",
        "    newLines = []\n",
        "    for line in lines:\n",
        "        newline = []\n",
        "        for c in line.strip():\n",
        "            if c == 'A':\n",
        "                v = [1,0,0,0]\n",
        "            elif c == 'C':\n",
        "                v = [0,1,0,0]\n",
        "            elif c == 'G':\n",
        "                v = [0,0,1,0]\n",
        "            elif c == 'T':\n",
        "                v = [0,0,0,1]\n",
        "            newline.append(v)\n",
        "        newLines.append(newline)\n",
        "    return newLines"
      ],
      "execution_count": 80,
      "outputs": []
    },
    {
      "cell_type": "code",
      "metadata": {
        "id": "5WIoO5jAktqz"
      },
      "source": [
        "def regular_network():\n",
        "    net_model = NetworkModel()\n",
        "    net_model.addInputLayer()\n",
        "    net_model.addFullyConnectedLayer(50)\n",
        "    net_model.addFullyConnectedLayer(50)\n",
        "    net_model.addOutputLayer()\n",
        "    return net_model"
      ],
      "execution_count": 81,
      "outputs": []
    },
    {
      "cell_type": "code",
      "metadata": {
        "id": "A-9NCBFCkupZ",
        "colab": {
          "base_uri": "https://localhost:8080/"
        },
        "outputId": "6b7aedeb-6f5a-4cdb-eeca-bd24bfb5b0ae"
      },
      "source": [
        "nm = regular_network()\n",
        "nm.printDetails()"
      ],
      "execution_count": 82,
      "outputs": [
        {
          "output_type": "stream",
          "name": "stdout",
          "text": [
            "####################################\n",
            "Network information:\n",
            "This network has 42702 trainable parameters.\n",
            " 0. Input layer                                                                -> Output size: (?, 200, 4)\n",
            " 1. Flatten layer                                                              -> Output size: (?, 800)\n",
            " 2. Fully-connected layer   50 neurons, with ReLU                              -> Output size: (?, 50)\n",
            " 3. Fully-connected layer   50 neurons, with ReLU                              -> Output size: (?, 50)\n",
            " 4. Softmax (output) layer  2 neurons                                          -> Output size: (?, 2)\n",
            "\n",
            "####################################\n"
          ]
        },
        {
          "output_type": "stream",
          "name": "stderr",
          "text": [
            "/usr/local/lib/python3.7/dist-packages/ipykernel_launcher.py:81: UserWarning: `tf.layers.flatten` is deprecated and will be removed in a future version. Please use `tf.keras.layers.Flatten` instead.\n",
            "/usr/local/lib/python3.7/dist-packages/keras/legacy_tf_layers/core.py:523: UserWarning: `layer.apply` is deprecated and will be removed in a future version. Please use `layer.__call__` method instead.\n",
            "  return layer.apply(inputs)\n",
            "/usr/local/lib/python3.7/dist-packages/ipykernel_launcher.py:84: UserWarning: `tf.layers.dense` is deprecated and will be removed in a future version. Please use `tf.keras.layers.Dense` instead.\n",
            "/usr/local/lib/python3.7/dist-packages/keras/legacy_tf_layers/core.py:255: UserWarning: `layer.apply` is deprecated and will be removed in a future version. Please use `layer.__call__` method instead.\n",
            "  return layer.apply(inputs)\n",
            "/usr/local/lib/python3.7/dist-packages/ipykernel_launcher.py:99: UserWarning: `tf.layers.dense` is deprecated and will be removed in a future version. Please use `tf.keras.layers.Dense` instead.\n"
          ]
        }
      ]
    },
    {
      "cell_type": "code",
      "metadata": {
        "id": "g9YbQGNhkzKI"
      },
      "source": [
        "X, y = readInputs('pos.fa', 'neg.fa')"
      ],
      "execution_count": 83,
      "outputs": []
    },
    {
      "cell_type": "code",
      "metadata": {
        "id": "RXPdoeP5k2yz"
      },
      "source": [
        "import sklearn\n",
        "from sklearn.model_selection import train_test_split\n",
        "\n",
        "X_train, X_test1, y_train, y_test1 = train_test_split(X, y, test_size=0.3, random_state=42)\n",
        "X_test, X_val, y_test, y_val = train_test_split(X_test1, y_test1, test_size=0.5, random_state=42)"
      ],
      "execution_count": 84,
      "outputs": []
    },
    {
      "cell_type": "code",
      "metadata": {
        "id": "sz-G6JoyzjmM"
      },
      "source": [
        "def conv_network():\n",
        "    con_model = NetworkModel()\n",
        "    con_model.addInputLayer()\n",
        "    con_model.addConvLayer(10, 7)\n",
        "    con_model.addMaxPoolLayer(5)\n",
        "    con_model.addConvLayer(20, 5)\n",
        "    con_model.addMaxPoolLayer(5)\n",
        "    con_model.addFullyConnectedLayer(15)\n",
        "    con_model.addOutputLayer()\n",
        "    return con_model"
      ],
      "execution_count": 85,
      "outputs": []
    },
    {
      "cell_type": "code",
      "metadata": {
        "colab": {
          "base_uri": "https://localhost:8080/"
        },
        "id": "bg7tWQ0ASQSg",
        "outputId": "45bab365-ee37-4758-bc97-e0f1ffd7bb6b"
      },
      "source": [
        "cnn = conv_network()\n",
        "cnn.printDetails()"
      ],
      "execution_count": 86,
      "outputs": [
        {
          "output_type": "stream",
          "name": "stdout",
          "text": [
            "####################################\n",
            "Network information:\n",
            "This network has 3757 trainable parameters.\n",
            " 0. Input layer                                                                -> Output size: (?, 200, 4)\n",
            " 1. Convolutional layer     10 filters, width 7, zero padding, with ReLU       -> Output size: (?, 200, 10)\n",
            " 2. Max pooling layer       pool size 5                                        -> Output size: (?, 40, 10)\n",
            " 3. Convolutional layer     20 filters, width 5, zero padding, with ReLU       -> Output size: (?, 40, 20)\n",
            " 4. Max pooling layer       pool size 5                                        -> Output size: (?, 8, 20)\n",
            " 5. Flatten layer                                                              -> Output size: (?, 160)\n",
            " 6. Fully-connected layer   15 neurons, with ReLU                              -> Output size: (?, 15)\n",
            " 7. Softmax (output) layer  2 neurons                                          -> Output size: (?, 2)\n",
            "\n",
            "####################################\n"
          ]
        },
        {
          "output_type": "stream",
          "name": "stderr",
          "text": [
            "/usr/local/lib/python3.7/dist-packages/ipykernel_launcher.py:55: UserWarning: `tf.layers.conv1d` is deprecated and will be removed in a future version. Please Use `tf.keras.layers.Conv1D` instead.\n",
            "/usr/local/lib/python3.7/dist-packages/keras/legacy_tf_layers/convolutional.py:288: UserWarning: `layer.apply` is deprecated and will be removed in a future version. Please use `layer.__call__` method instead.\n",
            "  return layer.apply(inputs)\n",
            "/usr/local/lib/python3.7/dist-packages/ipykernel_launcher.py:70: UserWarning: `tf.layers.max_pooling1d` is deprecated and will be removed in a future version. Please use `tf.keras.layers.MaxPooling1D` instead.\n",
            "/usr/local/lib/python3.7/dist-packages/keras/legacy_tf_layers/pooling.py:294: UserWarning: `layer.apply` is deprecated and will be removed in a future version. Please use `layer.__call__` method instead.\n",
            "  return layer.apply(inputs)\n",
            "/usr/local/lib/python3.7/dist-packages/ipykernel_launcher.py:81: UserWarning: `tf.layers.flatten` is deprecated and will be removed in a future version. Please use `tf.keras.layers.Flatten` instead.\n",
            "/usr/local/lib/python3.7/dist-packages/keras/legacy_tf_layers/core.py:523: UserWarning: `layer.apply` is deprecated and will be removed in a future version. Please use `layer.__call__` method instead.\n",
            "  return layer.apply(inputs)\n",
            "/usr/local/lib/python3.7/dist-packages/ipykernel_launcher.py:84: UserWarning: `tf.layers.dense` is deprecated and will be removed in a future version. Please use `tf.keras.layers.Dense` instead.\n",
            "/usr/local/lib/python3.7/dist-packages/keras/legacy_tf_layers/core.py:255: UserWarning: `layer.apply` is deprecated and will be removed in a future version. Please use `layer.__call__` method instead.\n",
            "  return layer.apply(inputs)\n",
            "/usr/local/lib/python3.7/dist-packages/ipykernel_launcher.py:99: UserWarning: `tf.layers.dense` is deprecated and will be removed in a future version. Please use `tf.keras.layers.Dense` instead.\n"
          ]
        }
      ]
    },
    {
      "cell_type": "code",
      "metadata": {
        "id": "-PfqcehWoSmz",
        "colab": {
          "base_uri": "https://localhost:8080/",
          "height": 695
        },
        "outputId": "43c23a5c-4688-488c-8e55-a040565804fb"
      },
      "source": [
        "cnn.train(X_train, y_train, X_val, y_val, 10)"
      ],
      "execution_count": 87,
      "outputs": [
        {
          "output_type": "stream",
          "name": "stdout",
          "text": [
            "####################################\n"
          ]
        },
        {
          "output_type": "stream",
          "name": "stderr",
          "text": [
            "/usr/local/lib/python3.7/dist-packages/numpy/core/_asarray.py:83: VisibleDeprecationWarning: Creating an ndarray from ragged nested sequences (which is a list-or-tuple of lists-or-tuples-or ndarrays with different lengths or shapes) is deprecated. If you meant to do this, you must specify 'dtype=object' when creating the ndarray\n",
            "  return array(a, dtype, copy=False, order=order)\n"
          ]
        },
        {
          "output_type": "stream",
          "name": "stdout",
          "text": [
            "\n",
            "Number of training examples: 83792\n",
            "Distribution of the training set:\n",
            "  # elements of class 0 = 83598\n",
            "  # elements of class 1 = 194\n",
            "\n",
            "Number of validation examples: 17956\n",
            "Distribution of the validation set:\n",
            "  # elements of class 0 = 17917\n",
            "  # elements of class 1 = 39\n",
            "\n",
            " epoch |   train cost   |   valid cost   |  train acc  |  valid acc  |   time   \n",
            "-------+----------------+----------------+-------------+-------------+----------\n"
          ]
        },
        {
          "output_type": "error",
          "ename": "ValueError",
          "evalue": "ignored",
          "traceback": [
            "\u001b[0;31m---------------------------------------------------------------------------\u001b[0m",
            "\u001b[0;31mTypeError\u001b[0m                                 Traceback (most recent call last)",
            "\u001b[0;31mTypeError\u001b[0m: float() argument must be a string or a number, not 'list'",
            "\nThe above exception was the direct cause of the following exception:\n",
            "\u001b[0;31mValueError\u001b[0m                                Traceback (most recent call last)",
            "\u001b[0;32m<ipython-input-87-14019df46aff>\u001b[0m in \u001b[0;36m<module>\u001b[0;34m()\u001b[0m\n\u001b[0;32m----> 1\u001b[0;31m \u001b[0mcnn\u001b[0m\u001b[0;34m.\u001b[0m\u001b[0mtrain\u001b[0m\u001b[0;34m(\u001b[0m\u001b[0mX_train\u001b[0m\u001b[0;34m,\u001b[0m \u001b[0my_train\u001b[0m\u001b[0;34m,\u001b[0m \u001b[0mX_val\u001b[0m\u001b[0;34m,\u001b[0m \u001b[0my_val\u001b[0m\u001b[0;34m,\u001b[0m \u001b[0;36m10\u001b[0m\u001b[0;34m)\u001b[0m\u001b[0;34m\u001b[0m\u001b[0;34m\u001b[0m\u001b[0m\n\u001b[0m",
            "\u001b[0;32m<ipython-input-79-3028ad079810>\u001b[0m in \u001b[0;36mtrain\u001b[0;34m(self, trainX, trainY, validX, validY, n_epochs)\u001b[0m\n\u001b[1;32m    154\u001b[0m         \u001b[0mprint\u001b[0m\u001b[0;34m(\u001b[0m\u001b[0;34m'-{:-^6}+{:-^16}+{:-^16}+{:-^13}+{:-^13}+{:-^9}-'\u001b[0m\u001b[0;34m.\u001b[0m\u001b[0mformat\u001b[0m\u001b[0;34m(\u001b[0m\u001b[0;34m''\u001b[0m\u001b[0;34m,\u001b[0m\u001b[0;34m''\u001b[0m\u001b[0;34m,\u001b[0m\u001b[0;34m''\u001b[0m\u001b[0;34m,\u001b[0m\u001b[0;34m''\u001b[0m\u001b[0;34m,\u001b[0m\u001b[0;34m''\u001b[0m\u001b[0;34m,\u001b[0m\u001b[0;34m''\u001b[0m\u001b[0;34m)\u001b[0m\u001b[0;34m)\u001b[0m\u001b[0;34m\u001b[0m\u001b[0;34m\u001b[0m\u001b[0m\n\u001b[1;32m    155\u001b[0m \u001b[0;34m\u001b[0m\u001b[0m\n\u001b[0;32m--> 156\u001b[0;31m         \u001b[0mtr_cost\u001b[0m\u001b[0;34m,\u001b[0m \u001b[0mtr_acc\u001b[0m \u001b[0;34m=\u001b[0m \u001b[0mself\u001b[0m\u001b[0;34m.\u001b[0m\u001b[0m_evaluateSet\u001b[0m\u001b[0;34m(\u001b[0m\u001b[0mtrain_dataset\u001b[0m\u001b[0;34m)\u001b[0m\u001b[0;34m\u001b[0m\u001b[0;34m\u001b[0m\u001b[0m\n\u001b[0m\u001b[1;32m    157\u001b[0m         \u001b[0mva_cost\u001b[0m\u001b[0;34m,\u001b[0m \u001b[0mva_acc\u001b[0m \u001b[0;34m=\u001b[0m \u001b[0mself\u001b[0m\u001b[0;34m.\u001b[0m\u001b[0m_evaluateSet\u001b[0m\u001b[0;34m(\u001b[0m\u001b[0mvalid_dataset\u001b[0m\u001b[0;34m)\u001b[0m\u001b[0;34m\u001b[0m\u001b[0;34m\u001b[0m\u001b[0m\n\u001b[1;32m    158\u001b[0m         \u001b[0mprint\u001b[0m\u001b[0;34m(\u001b[0m\u001b[0;34m' {:5d} |   {:2.8f}   |   {:2.8f}   |  {:1.7f}  | {:1.7f}  | {:4.2f}s '\u001b[0m\u001b[0;34m.\u001b[0m\u001b[0mformat\u001b[0m\u001b[0;34m(\u001b[0m\u001b[0;36m0\u001b[0m\u001b[0;34m,\u001b[0m\u001b[0mtr_cost\u001b[0m\u001b[0;34m,\u001b[0m\u001b[0mtr_acc\u001b[0m\u001b[0;34m,\u001b[0m\u001b[0mva_cost\u001b[0m\u001b[0;34m,\u001b[0m\u001b[0mva_acc\u001b[0m\u001b[0;34m,\u001b[0m\u001b[0;36m0\u001b[0m\u001b[0;34m)\u001b[0m\u001b[0;34m)\u001b[0m\u001b[0;34m\u001b[0m\u001b[0;34m\u001b[0m\u001b[0m\n",
            "\u001b[0;32m<ipython-input-79-3028ad079810>\u001b[0m in \u001b[0;36m_evaluateSet\u001b[0;34m(self, dataset)\u001b[0m\n\u001b[1;32m    220\u001b[0m             \u001b[0mbatch_x\u001b[0m\u001b[0;34m,\u001b[0m \u001b[0mbatch_y\u001b[0m\u001b[0;34m,\u001b[0m \u001b[0mepoch_finished\u001b[0m \u001b[0;34m=\u001b[0m \u001b[0mdataset\u001b[0m\u001b[0;34m.\u001b[0m\u001b[0mnext_batch\u001b[0m\u001b[0;34m(\u001b[0m\u001b[0;36m256\u001b[0m\u001b[0;34m)\u001b[0m\u001b[0;34m\u001b[0m\u001b[0;34m\u001b[0m\u001b[0m\n\u001b[1;32m    221\u001b[0m \u001b[0;34m\u001b[0m\u001b[0m\n\u001b[0;32m--> 222\u001b[0;31m             \u001b[0mcost_batch\u001b[0m \u001b[0;34m=\u001b[0m \u001b[0mself\u001b[0m\u001b[0;34m.\u001b[0m\u001b[0msess\u001b[0m\u001b[0;34m.\u001b[0m\u001b[0mrun\u001b[0m\u001b[0;34m(\u001b[0m\u001b[0mself\u001b[0m\u001b[0;34m.\u001b[0m\u001b[0mcost_f\u001b[0m\u001b[0;34m,\u001b[0m \u001b[0mfeed_dict\u001b[0m\u001b[0;34m=\u001b[0m\u001b[0;34m{\u001b[0m\u001b[0mself\u001b[0m\u001b[0;34m.\u001b[0m\u001b[0mX_placeholder\u001b[0m\u001b[0;34m:\u001b[0m \u001b[0mbatch_x\u001b[0m\u001b[0;34m,\u001b[0m\u001b[0mself\u001b[0m\u001b[0;34m.\u001b[0m\u001b[0mY_placeholder\u001b[0m\u001b[0;34m:\u001b[0m \u001b[0mbatch_y\u001b[0m\u001b[0;34m}\u001b[0m\u001b[0;34m)\u001b[0m\u001b[0;34m\u001b[0m\u001b[0;34m\u001b[0m\u001b[0m\n\u001b[0m\u001b[1;32m    223\u001b[0m             \u001b[0m_\u001b[0m \u001b[0;34m=\u001b[0m \u001b[0mself\u001b[0m\u001b[0;34m.\u001b[0m\u001b[0msess\u001b[0m\u001b[0;34m.\u001b[0m\u001b[0mrun\u001b[0m\u001b[0;34m(\u001b[0m\u001b[0;34m[\u001b[0m\u001b[0mself\u001b[0m\u001b[0;34m.\u001b[0m\u001b[0macc_op\u001b[0m\u001b[0;34m]\u001b[0m\u001b[0;34m,\u001b[0m \u001b[0mfeed_dict\u001b[0m\u001b[0;34m=\u001b[0m\u001b[0;34m{\u001b[0m\u001b[0mself\u001b[0m\u001b[0;34m.\u001b[0m\u001b[0mX_placeholder\u001b[0m\u001b[0;34m:\u001b[0m \u001b[0mbatch_x\u001b[0m\u001b[0;34m,\u001b[0m\u001b[0mself\u001b[0m\u001b[0;34m.\u001b[0m\u001b[0mY_placeholder\u001b[0m\u001b[0;34m:\u001b[0m \u001b[0mbatch_y\u001b[0m\u001b[0;34m}\u001b[0m\u001b[0;34m)\u001b[0m\u001b[0;34m\u001b[0m\u001b[0;34m\u001b[0m\u001b[0m\n\u001b[1;32m    224\u001b[0m             \u001b[0mcosts\u001b[0m\u001b[0;34m.\u001b[0m\u001b[0mextend\u001b[0m\u001b[0;34m(\u001b[0m\u001b[0;34m[\u001b[0m\u001b[0mcost_batch\u001b[0m\u001b[0;34m]\u001b[0m \u001b[0;34m*\u001b[0m \u001b[0mlen\u001b[0m\u001b[0;34m(\u001b[0m\u001b[0mbatch_y\u001b[0m\u001b[0;34m)\u001b[0m\u001b[0;34m)\u001b[0m\u001b[0;34m\u001b[0m\u001b[0;34m\u001b[0m\u001b[0m\n",
            "\u001b[0;32m/usr/local/lib/python3.7/dist-packages/tensorflow/python/client/session.py\u001b[0m in \u001b[0;36mrun\u001b[0;34m(self, fetches, feed_dict, options, run_metadata)\u001b[0m\n\u001b[1;32m    969\u001b[0m     \u001b[0;32mtry\u001b[0m\u001b[0;34m:\u001b[0m\u001b[0;34m\u001b[0m\u001b[0;34m\u001b[0m\u001b[0m\n\u001b[1;32m    970\u001b[0m       result = self._run(None, fetches, feed_dict, options_ptr,\n\u001b[0;32m--> 971\u001b[0;31m                          run_metadata_ptr)\n\u001b[0m\u001b[1;32m    972\u001b[0m       \u001b[0;32mif\u001b[0m \u001b[0mrun_metadata\u001b[0m\u001b[0;34m:\u001b[0m\u001b[0;34m\u001b[0m\u001b[0;34m\u001b[0m\u001b[0m\n\u001b[1;32m    973\u001b[0m         \u001b[0mproto_data\u001b[0m \u001b[0;34m=\u001b[0m \u001b[0mtf_session\u001b[0m\u001b[0;34m.\u001b[0m\u001b[0mTF_GetBuffer\u001b[0m\u001b[0;34m(\u001b[0m\u001b[0mrun_metadata_ptr\u001b[0m\u001b[0;34m)\u001b[0m\u001b[0;34m\u001b[0m\u001b[0;34m\u001b[0m\u001b[0m\n",
            "\u001b[0;32m/usr/local/lib/python3.7/dist-packages/tensorflow/python/client/session.py\u001b[0m in \u001b[0;36m_run\u001b[0;34m(self, handle, fetches, feed_dict, options, run_metadata)\u001b[0m\n\u001b[1;32m   1161\u001b[0m             \u001b[0mfeed_handles\u001b[0m\u001b[0;34m[\u001b[0m\u001b[0msubfeed_t\u001b[0m\u001b[0;34m.\u001b[0m\u001b[0mref\u001b[0m\u001b[0;34m(\u001b[0m\u001b[0;34m)\u001b[0m\u001b[0;34m]\u001b[0m \u001b[0;34m=\u001b[0m \u001b[0msubfeed_val\u001b[0m\u001b[0;34m\u001b[0m\u001b[0;34m\u001b[0m\u001b[0m\n\u001b[1;32m   1162\u001b[0m           \u001b[0;32melse\u001b[0m\u001b[0;34m:\u001b[0m\u001b[0;34m\u001b[0m\u001b[0;34m\u001b[0m\u001b[0m\n\u001b[0;32m-> 1163\u001b[0;31m             \u001b[0mnp_val\u001b[0m \u001b[0;34m=\u001b[0m \u001b[0mnp\u001b[0m\u001b[0;34m.\u001b[0m\u001b[0masarray\u001b[0m\u001b[0;34m(\u001b[0m\u001b[0msubfeed_val\u001b[0m\u001b[0;34m,\u001b[0m \u001b[0mdtype\u001b[0m\u001b[0;34m=\u001b[0m\u001b[0msubfeed_dtype\u001b[0m\u001b[0;34m)\u001b[0m\u001b[0;34m\u001b[0m\u001b[0;34m\u001b[0m\u001b[0m\n\u001b[0m\u001b[1;32m   1164\u001b[0m \u001b[0;34m\u001b[0m\u001b[0m\n\u001b[1;32m   1165\u001b[0m           if (not is_tensor_handle_feed and\n",
            "\u001b[0;32m/usr/local/lib/python3.7/dist-packages/numpy/core/_asarray.py\u001b[0m in \u001b[0;36masarray\u001b[0;34m(a, dtype, order)\u001b[0m\n\u001b[1;32m     81\u001b[0m \u001b[0;34m\u001b[0m\u001b[0m\n\u001b[1;32m     82\u001b[0m     \"\"\"\n\u001b[0;32m---> 83\u001b[0;31m     \u001b[0;32mreturn\u001b[0m \u001b[0marray\u001b[0m\u001b[0;34m(\u001b[0m\u001b[0ma\u001b[0m\u001b[0;34m,\u001b[0m \u001b[0mdtype\u001b[0m\u001b[0;34m,\u001b[0m \u001b[0mcopy\u001b[0m\u001b[0;34m=\u001b[0m\u001b[0;32mFalse\u001b[0m\u001b[0;34m,\u001b[0m \u001b[0morder\u001b[0m\u001b[0;34m=\u001b[0m\u001b[0morder\u001b[0m\u001b[0;34m)\u001b[0m\u001b[0;34m\u001b[0m\u001b[0;34m\u001b[0m\u001b[0m\n\u001b[0m\u001b[1;32m     84\u001b[0m \u001b[0;34m\u001b[0m\u001b[0m\n\u001b[1;32m     85\u001b[0m \u001b[0;34m\u001b[0m\u001b[0m\n",
            "\u001b[0;31mValueError\u001b[0m: setting an array element with a sequence."
          ]
        }
      ]
    },
    {
      "cell_type": "markdown",
      "metadata": {
        "id": "hqC-rPIpqS6G"
      },
      "source": [
        "**К сожалению, обучение не получается, НО я ооочень старалась(((**\n",
        "\n",
        "**Я подготовила данные. Думаю это как минимум выходит на половину работу (а то и больше)**"
      ]
    },
    {
      "cell_type": "markdown",
      "metadata": {
        "id": "4O-ptPvkTeLG"
      },
      "source": [
        "![b084afa2b8c082060b58360e309c11a5.jpg](data:image/jpeg;base64,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)"
      ]
    },
    {
      "cell_type": "code",
      "metadata": {
        "id": "3pfnvvgQUFHx"
      },
      "source": [
        ""
      ],
      "execution_count": null,
      "outputs": []
    }
  ]
}